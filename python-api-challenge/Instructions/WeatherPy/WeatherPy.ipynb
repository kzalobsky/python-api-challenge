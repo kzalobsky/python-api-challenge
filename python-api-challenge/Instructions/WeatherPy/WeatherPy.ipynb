{
 "cells": [
  {
   "cell_type": "markdown",
   "metadata": {},
   "source": [
    "# WeatherPy\n",
    "----\n",
    "\n",
    "#### Note\n",
    "* Instructions have been included for each segment. You do not have to follow them exactly, but they are included to help you think through the steps."
   ]
  },
  {
   "cell_type": "code",
   "execution_count": 9,
   "metadata": {
    "scrolled": true
   },
   "outputs": [],
   "source": [
    "# Dependencies and Setup\n",
    "import matplotlib.pyplot as plt\n",
    "import pandas as pd\n",
    "import numpy as np\n",
    "import requests\n",
    "import time\n",
    "import json\n",
    "import datetime\n",
    "import scipy.stats as st\n",
    "from scipy.stats import linregress\n",
    "\n",
    "# Import API key\n",
    "from api_keys import weather_api_key\n",
    "\n",
    "# Incorporated citipy to determine city based on latitude and longitude\n",
    "from citipy import citipy\n",
    "\n",
    "# Output File (CSV)\n",
    "output_data_file = \"output_data/cities.csv\"\n",
    "\n",
    "# Range of latitudes and longitudes\n",
    "lat_range = (-90, 90)\n",
    "lng_range = (-180, 180)"
   ]
  },
  {
   "cell_type": "markdown",
   "metadata": {},
   "source": [
    "## Generate Cities List"
   ]
  },
  {
   "cell_type": "code",
   "execution_count": 10,
   "metadata": {},
   "outputs": [
    {
     "name": "stdout",
     "output_type": "stream",
     "text": [
      "638 cities have been identified to poll for weather.\n"
     ]
    }
   ],
   "source": [
    "#Generating list for holding Latitude, Longitude, and Cities\n",
    "lats_lngs = []\n",
    "cities = []\n",
    "\n",
    "lats = np.random.uniform(lat_range[0], lat_range[1], size=1500)\n",
    "lngs = np.random.uniform(lng_range[0], lng_range[1], size=1500)\n",
    "lats_lngs = zip(lats, lngs)\n",
    "\n",
    "saved_lats = []\n",
    "saved_lngs = []\n",
    "\n",
    "for lat_lng in lats_lngs:\n",
    "    city = citipy.nearest_city(lat_lng[0], lat_lng[1]).city_name\n",
    "    \n",
    "    if city not in cities:\n",
    "        cities.append(city)\n",
    "        saved_lats.append(lat_lng[0])\n",
    "        saved_lngs.append(lat_lng[1])\n",
    "        \n",
    "len(cities)\n",
    "print(\"{} cities have been identified to poll for weather.\".format(len(cities)))"
   ]
  },
  {
   "cell_type": "code",
   "execution_count": 11,
   "metadata": {},
   "outputs": [
    {
     "data": {
      "text/html": [
       "<div>\n",
       "<style scoped>\n",
       "    .dataframe tbody tr th:only-of-type {\n",
       "        vertical-align: middle;\n",
       "    }\n",
       "\n",
       "    .dataframe tbody tr th {\n",
       "        vertical-align: top;\n",
       "    }\n",
       "\n",
       "    .dataframe thead th {\n",
       "        text-align: right;\n",
       "    }\n",
       "</style>\n",
       "<table border=\"1\" class=\"dataframe\">\n",
       "  <thead>\n",
       "    <tr style=\"text-align: right;\">\n",
       "      <th></th>\n",
       "      <th>City</th>\n",
       "      <th>Approximate Latitude</th>\n",
       "      <th>Approximate Longitude</th>\n",
       "    </tr>\n",
       "  </thead>\n",
       "  <tbody>\n",
       "    <tr>\n",
       "      <th>0</th>\n",
       "      <td>saint-joseph</td>\n",
       "      <td>-35.591553</td>\n",
       "      <td>56.691892</td>\n",
       "    </tr>\n",
       "    <tr>\n",
       "      <th>1</th>\n",
       "      <td>gilgit</td>\n",
       "      <td>36.399801</td>\n",
       "      <td>73.333392</td>\n",
       "    </tr>\n",
       "    <tr>\n",
       "      <th>2</th>\n",
       "      <td>fernie</td>\n",
       "      <td>49.742892</td>\n",
       "      <td>-115.285624</td>\n",
       "    </tr>\n",
       "    <tr>\n",
       "      <th>3</th>\n",
       "      <td>tiksi</td>\n",
       "      <td>83.255784</td>\n",
       "      <td>125.049610</td>\n",
       "    </tr>\n",
       "    <tr>\n",
       "      <th>4</th>\n",
       "      <td>torbay</td>\n",
       "      <td>42.359538</td>\n",
       "      <td>-49.489684</td>\n",
       "    </tr>\n",
       "  </tbody>\n",
       "</table>\n",
       "</div>"
      ],
      "text/plain": [
       "           City  Approximate Latitude  Approximate Longitude\n",
       "0  saint-joseph            -35.591553              56.691892\n",
       "1        gilgit             36.399801              73.333392\n",
       "2        fernie             49.742892            -115.285624\n",
       "3         tiksi             83.255784             125.049610\n",
       "4        torbay             42.359538             -49.489684"
      ]
     },
     "execution_count": 11,
     "metadata": {},
     "output_type": "execute_result"
    }
   ],
   "source": [
    "#Creating a DataFrame of Cities\n",
    "city_list = pd.DataFrame({\"City\":cities, \"Approximate Latitude\":saved_lats, \"Approximate Longitude\":saved_lngs})\n",
    "city_list.head()"
   ]
  },
  {
   "cell_type": "markdown",
   "metadata": {},
   "source": [
    "### Perform API Calls\n",
    "* Perform a weather check on each city using a series of successive API calls.\n",
    "* Include a print log of each city as it'sbeing processed (with the city number and city name).\n"
   ]
  },
  {
   "cell_type": "code",
   "execution_count": 12,
   "metadata": {},
   "outputs": [],
   "source": [
    "city_name_list = []\n",
    "cloudiness_list = []\n",
    "country_list = []\n",
    "date_list = []\n",
    "humidity_list = []\n",
    "lat_list = []\n",
    "lng_list = []\n",
    "max_temp_list = []\n",
    "wind_speed_list = []\n",
    "index_counter = 0\n",
    "set_counter = 1"
   ]
  },
  {
   "cell_type": "code",
   "execution_count": 13,
   "metadata": {
    "scrolled": false
   },
   "outputs": [
    {
     "name": "stdout",
     "output_type": "stream",
     "text": [
      "Processing Record 1 of Set 1 : saint-joseph\n",
      "Processing Record 2 of Set 1 : gilgit\n",
      "Processing Record 3 of Set 1 : fernie\n",
      "Processing Record 4 of Set 1 : tiksi\n",
      "Processing Record 5 of Set 1 : torbay\n",
      "Processing Record 6 of Set 1 : hobart\n",
      "Processing Record 7 of Set 1 : ushuaia\n",
      "Processing Record 8 of Set 1 : ribeira grande\n",
      "Processing Record 9 of Set 1 : kampot\n",
      "City not found. Skipping...\n",
      "City not found. Skipping...\n",
      "Processing Record 10 of Set 1 : port macquarie\n",
      "Processing Record 11 of Set 1 : panguipulli\n",
      "Processing Record 12 of Set 1 : ventspils\n",
      "Processing Record 13 of Set 1 : northam\n",
      "Processing Record 14 of Set 1 : sao filipe\n",
      "Processing Record 15 of Set 1 : nyanguge\n",
      "Processing Record 16 of Set 1 : norman wells\n",
      "Processing Record 17 of Set 1 : rikitea\n",
      "Processing Record 18 of Set 1 : tuktoyaktuk\n",
      "Processing Record 19 of Set 1 : kloulklubed\n",
      "Processing Record 20 of Set 1 : nemuro\n",
      "Processing Record 21 of Set 1 : nikolskoye\n",
      "Processing Record 22 of Set 1 : hithadhoo\n",
      "Processing Record 23 of Set 1 : albany\n",
      "Processing Record 24 of Set 1 : hilo\n",
      "Processing Record 25 of Set 1 : butaritari\n",
      "City not found. Skipping...\n",
      "Processing Record 26 of Set 1 : jamestown\n",
      "Processing Record 27 of Set 1 : lavrentiya\n",
      "Processing Record 28 of Set 1 : rawson\n",
      "Processing Record 29 of Set 1 : sisimiut\n",
      "Processing Record 30 of Set 1 : qaanaaq\n",
      "Processing Record 31 of Set 1 : birao\n",
      "Processing Record 32 of Set 1 : aksarayskiy\n",
      "Processing Record 33 of Set 1 : cockburn town\n",
      "Processing Record 34 of Set 1 : whitianga\n",
      "Processing Record 35 of Set 1 : henties bay\n",
      "Processing Record 36 of Set 1 : busselton\n",
      "Processing Record 37 of Set 1 : hermanus\n",
      "Processing Record 38 of Set 1 : martapura\n",
      "Processing Record 39 of Set 1 : sorland\n",
      "Processing Record 40 of Set 1 : port alfred\n",
      "Processing Record 41 of Set 1 : stornoway\n",
      "Processing Record 42 of Set 1 : mahebourg\n",
      "Processing Record 43 of Set 1 : vila velha\n",
      "Processing Record 44 of Set 1 : kamina\n",
      "Processing Record 45 of Set 1 : kapaa\n",
      "City not found. Skipping...\n",
      "Processing Record 46 of Set 1 : nadym\n",
      "Processing Record 47 of Set 1 : zherdevka\n",
      "Processing Record 48 of Set 1 : high level\n",
      "Processing Record 49 of Set 1 : rocha\n",
      "Processing Record 50 of Set 1 : pascagoula\n",
      "Processing Record 0 of Set 2 : ponta delgada\n",
      "Processing Record 1 of Set 2 : clyde river\n",
      "Processing Record 2 of Set 2 : tevaitoa\n",
      "Processing Record 3 of Set 2 : avarua\n",
      "Processing Record 4 of Set 2 : port lincoln\n",
      "Processing Record 5 of Set 2 : guerrero negro\n",
      "Processing Record 6 of Set 2 : anjozorobe\n",
      "Processing Record 7 of Set 2 : kidal\n",
      "Processing Record 8 of Set 2 : tulum\n",
      "Processing Record 9 of Set 2 : mar del plata\n",
      "Processing Record 10 of Set 2 : punta arenas\n",
      "Processing Record 11 of Set 2 : eydhafushi\n",
      "Processing Record 12 of Set 2 : ilulissat\n",
      "Processing Record 13 of Set 2 : wangqing\n",
      "Processing Record 14 of Set 2 : opelousas\n",
      "Processing Record 15 of Set 2 : vaini\n",
      "Processing Record 16 of Set 2 : saint-georges\n",
      "Processing Record 17 of Set 2 : kokorevka\n",
      "Processing Record 18 of Set 2 : bethel\n",
      "Processing Record 19 of Set 2 : ponta do sol\n",
      "Processing Record 20 of Set 2 : areosa\n",
      "Processing Record 21 of Set 2 : georgetown\n",
      "Processing Record 22 of Set 2 : marsa matruh\n",
      "Processing Record 23 of Set 2 : bluff\n",
      "Processing Record 24 of Set 2 : fortuna\n",
      "Processing Record 25 of Set 2 : kruisfontein\n",
      "Processing Record 26 of Set 2 : bredasdorp\n",
      "Processing Record 27 of Set 2 : port hardy\n",
      "Processing Record 28 of Set 2 : cape town\n",
      "Processing Record 29 of Set 2 : thompson\n",
      "Processing Record 30 of Set 2 : kavieng\n",
      "Processing Record 31 of Set 2 : barrow\n",
      "Processing Record 32 of Set 2 : karratha\n",
      "Processing Record 33 of Set 2 : saint-pierre\n",
      "Processing Record 34 of Set 2 : khatanga\n",
      "Processing Record 35 of Set 2 : atuona\n",
      "Processing Record 36 of Set 2 : tadine\n",
      "Processing Record 37 of Set 2 : fairbanks\n",
      "City not found. Skipping...\n",
      "Processing Record 38 of Set 2 : jalu\n",
      "Processing Record 39 of Set 2 : churapcha\n",
      "Processing Record 40 of Set 2 : new norfolk\n",
      "Processing Record 41 of Set 2 : pacifica\n",
      "Processing Record 42 of Set 2 : kizilskoye\n",
      "Processing Record 43 of Set 2 : port moresby\n",
      "Processing Record 44 of Set 2 : saint-philippe\n",
      "Processing Record 45 of Set 2 : tuatapere\n",
      "Processing Record 46 of Set 2 : faanui\n",
      "Processing Record 47 of Set 2 : wattegama\n",
      "Processing Record 48 of Set 2 : wanning\n",
      "Processing Record 49 of Set 2 : inhambane\n",
      "City not found. Skipping...\n",
      "Processing Record 50 of Set 2 : buritis\n",
      "Processing Record 0 of Set 3 : korla\n",
      "Processing Record 1 of Set 3 : nabire\n",
      "Processing Record 2 of Set 3 : mataura\n",
      "Processing Record 3 of Set 3 : carnarvon\n",
      "Processing Record 4 of Set 3 : yellowknife\n",
      "Processing Record 5 of Set 3 : kununurra\n",
      "Processing Record 6 of Set 3 : benguela\n",
      "Processing Record 7 of Set 3 : fengzhen\n",
      "Processing Record 8 of Set 3 : verkhneuralsk\n",
      "Processing Record 9 of Set 3 : nyurba\n",
      "Processing Record 10 of Set 3 : killybegs\n",
      "Processing Record 11 of Set 3 : alofi\n",
      "Processing Record 12 of Set 3 : san quintin\n",
      "Processing Record 13 of Set 3 : east london\n",
      "Processing Record 14 of Set 3 : castro\n",
      "Processing Record 15 of Set 3 : havelock\n",
      "City not found. Skipping...\n",
      "Processing Record 16 of Set 3 : gallup\n",
      "Processing Record 17 of Set 3 : sur\n",
      "Processing Record 18 of Set 3 : constitucion\n",
      "City not found. Skipping...\n",
      "Processing Record 19 of Set 3 : gambo\n",
      "Processing Record 20 of Set 3 : kieta\n",
      "Processing Record 21 of Set 3 : nioki\n",
      "Processing Record 22 of Set 3 : flin flon\n",
      "Processing Record 23 of Set 3 : urusha\n",
      "Processing Record 24 of Set 3 : korsakov\n",
      "Processing Record 25 of Set 3 : talnakh\n",
      "Processing Record 26 of Set 3 : nenjiang\n",
      "City not found. Skipping...\n",
      "City not found. Skipping...\n",
      "Processing Record 27 of Set 3 : isangel\n",
      "Processing Record 28 of Set 3 : kumluca\n",
      "Processing Record 29 of Set 3 : boca do acre\n",
      "Processing Record 30 of Set 3 : kaitangata\n",
      "Processing Record 31 of Set 3 : chara\n",
      "Processing Record 32 of Set 3 : piacabucu\n",
      "Processing Record 33 of Set 3 : grao mogol\n",
      "Processing Record 34 of Set 3 : snyder\n",
      "Processing Record 35 of Set 3 : nokaneng\n",
      "Processing Record 36 of Set 3 : san patricio\n",
      "Processing Record 37 of Set 3 : sitka\n",
      "Processing Record 38 of Set 3 : souillac\n",
      "Processing Record 39 of Set 3 : ixtapa\n",
      "Processing Record 40 of Set 3 : bukachacha\n",
      "Processing Record 41 of Set 3 : coahuayana\n",
      "City not found. Skipping...\n",
      "Processing Record 42 of Set 3 : yangliuqing\n",
      "City not found. Skipping...\n",
      "Processing Record 43 of Set 3 : yichang\n",
      "Processing Record 44 of Set 3 : geraldton\n",
      "Processing Record 45 of Set 3 : port-cartier\n",
      "Processing Record 46 of Set 3 : kimbe\n",
      "Processing Record 47 of Set 3 : severo-kurilsk\n",
      "Processing Record 48 of Set 3 : cherskiy\n",
      "Processing Record 49 of Set 3 : simmerath\n",
      "Processing Record 50 of Set 3 : veshenskaya\n",
      "Processing Record 0 of Set 4 : codrington\n",
      "Processing Record 1 of Set 4 : tabou\n",
      "Processing Record 2 of Set 4 : ambilobe\n",
      "Processing Record 3 of Set 4 : longyearbyen\n",
      "Processing Record 4 of Set 4 : haines junction\n",
      "Processing Record 5 of Set 4 : airai\n",
      "Processing Record 6 of Set 4 : puerto ayora\n",
      "Processing Record 7 of Set 4 : coihaique\n",
      "Processing Record 8 of Set 4 : aklavik\n",
      "Processing Record 9 of Set 4 : ballina\n",
      "City not found. Skipping...\n",
      "Processing Record 10 of Set 4 : dikson\n",
      "Processing Record 11 of Set 4 : mosquera\n",
      "Processing Record 12 of Set 4 : denizli\n",
      "Processing Record 13 of Set 4 : necochea\n",
      "Processing Record 14 of Set 4 : marquette\n",
      "City not found. Skipping...\n",
      "Processing Record 15 of Set 4 : narsaq\n",
      "Processing Record 16 of Set 4 : bambous virieux\n",
      "City not found. Skipping...\n",
      "Processing Record 17 of Set 4 : damietta\n",
      "Processing Record 18 of Set 4 : lubben\n",
      "Processing Record 19 of Set 4 : porto novo\n",
      "Processing Record 20 of Set 4 : bathsheba\n",
      "Processing Record 21 of Set 4 : asau\n",
      "Processing Record 22 of Set 4 : tiarei\n",
      "Processing Record 23 of Set 4 : salinas\n",
      "Processing Record 24 of Set 4 : san matias\n",
      "Processing Record 25 of Set 4 : manokwari\n",
      "Processing Record 26 of Set 4 : arraial do cabo\n",
      "Processing Record 27 of Set 4 : khao wong\n",
      "Processing Record 28 of Set 4 : pevek\n",
      "Processing Record 29 of Set 4 : chuy\n",
      "Processing Record 30 of Set 4 : upernavik\n",
      "City not found. Skipping...\n",
      "Processing Record 31 of Set 4 : kulebaki\n",
      "City not found. Skipping...\n",
      "Processing Record 32 of Set 4 : chicama\n",
      "Processing Record 33 of Set 4 : karaton\n",
      "Processing Record 34 of Set 4 : inuvik\n"
     ]
    },
    {
     "name": "stdout",
     "output_type": "stream",
     "text": [
      "Processing Record 35 of Set 4 : kyshtovka\n",
      "City not found. Skipping...\n",
      "Processing Record 36 of Set 4 : banjar\n",
      "Processing Record 37 of Set 4 : seoul\n",
      "City not found. Skipping...\n",
      "Processing Record 38 of Set 4 : half moon bay\n",
      "Processing Record 39 of Set 4 : tasiilaq\n",
      "Processing Record 40 of Set 4 : great yarmouth\n",
      "Processing Record 41 of Set 4 : kodiak\n",
      "Processing Record 42 of Set 4 : gwanda\n",
      "Processing Record 43 of Set 4 : gariaband\n",
      "City not found. Skipping...\n",
      "Processing Record 44 of Set 4 : rio gallegos\n",
      "Processing Record 45 of Set 4 : lagunas\n",
      "Processing Record 46 of Set 4 : sebring\n",
      "Processing Record 47 of Set 4 : arya\n",
      "City not found. Skipping...\n",
      "Processing Record 48 of Set 4 : peniche\n",
      "Processing Record 49 of Set 4 : esperance\n",
      "Processing Record 50 of Set 4 : grindavik\n",
      "Processing Record 0 of Set 5 : pisco\n",
      "Processing Record 1 of Set 5 : la palma\n",
      "Processing Record 2 of Set 5 : baghdad\n",
      "Processing Record 3 of Set 5 : dagda\n",
      "Processing Record 4 of Set 5 : port elizabeth\n",
      "Processing Record 5 of Set 5 : salobrena\n",
      "Processing Record 6 of Set 5 : pushkinskiye gory\n",
      "City not found. Skipping...\n",
      "Processing Record 7 of Set 5 : anori\n",
      "Processing Record 8 of Set 5 : kalemie\n",
      "Processing Record 9 of Set 5 : putina\n",
      "Processing Record 10 of Set 5 : kamenka\n",
      "Processing Record 11 of Set 5 : pierre\n",
      "Processing Record 12 of Set 5 : iqaluit\n",
      "Processing Record 13 of Set 5 : lompoc\n",
      "Processing Record 14 of Set 5 : punta de piedra\n",
      "Processing Record 15 of Set 5 : madoc\n",
      "Processing Record 16 of Set 5 : igrim\n",
      "Processing Record 17 of Set 5 : saint george\n",
      "Processing Record 18 of Set 5 : ilhabela\n",
      "Processing Record 19 of Set 5 : krasnovishersk\n",
      "Processing Record 20 of Set 5 : khani\n",
      "Processing Record 21 of Set 5 : port augusta\n",
      "Processing Record 22 of Set 5 : ostrovnoy\n",
      "Processing Record 23 of Set 5 : kampen\n",
      "Processing Record 24 of Set 5 : novyy urgal\n",
      "Processing Record 25 of Set 5 : hobyo\n",
      "Processing Record 26 of Set 5 : samarai\n",
      "Processing Record 27 of Set 5 : taywarah\n",
      "Processing Record 28 of Set 5 : craig\n",
      "City not found. Skipping...\n",
      "Processing Record 29 of Set 5 : wichian buri\n",
      "Processing Record 30 of Set 5 : phangnga\n",
      "City not found. Skipping...\n",
      "Processing Record 31 of Set 5 : kalabo\n",
      "Processing Record 32 of Set 5 : taltal\n",
      "Processing Record 33 of Set 5 : miracema do tocantins\n",
      "Processing Record 34 of Set 5 : cururupu\n",
      "Processing Record 35 of Set 5 : tay ninh\n",
      "Processing Record 36 of Set 5 : vicuna\n",
      "Processing Record 37 of Set 5 : camacha\n",
      "Processing Record 38 of Set 5 : kopavogur\n",
      "Processing Record 39 of Set 5 : quatre cocos\n",
      "Processing Record 40 of Set 5 : hambantota\n",
      "Processing Record 41 of Set 5 : gornopravdinsk\n",
      "Processing Record 42 of Set 5 : leningradskiy\n",
      "Processing Record 43 of Set 5 : atambua\n",
      "Processing Record 44 of Set 5 : victoria\n",
      "Processing Record 45 of Set 5 : havre\n",
      "Processing Record 46 of Set 5 : pasni\n",
      "Processing Record 47 of Set 5 : nishihara\n",
      "Processing Record 48 of Set 5 : sydney\n",
      "Processing Record 49 of Set 5 : saskylakh\n",
      "Processing Record 50 of Set 5 : lebu\n",
      "Processing Record 0 of Set 6 : potosi\n",
      "Processing Record 1 of Set 6 : chokurdakh\n",
      "Processing Record 2 of Set 6 : luwuk\n",
      "City not found. Skipping...\n",
      "Processing Record 3 of Set 6 : popondetta\n",
      "Processing Record 4 of Set 6 : ulaangom\n",
      "Processing Record 5 of Set 6 : villa carlos paz\n",
      "Processing Record 6 of Set 6 : lagoa\n",
      "Processing Record 7 of Set 6 : joura\n",
      "City not found. Skipping...\n",
      "Processing Record 8 of Set 6 : hualmay\n",
      "Processing Record 9 of Set 6 : namibe\n",
      "Processing Record 10 of Set 6 : worland\n",
      "Processing Record 11 of Set 6 : gaoyou\n",
      "Processing Record 12 of Set 6 : bilma\n",
      "Processing Record 13 of Set 6 : yulara\n",
      "City not found. Skipping...\n",
      "Processing Record 14 of Set 6 : chenzhou\n",
      "Processing Record 15 of Set 6 : sao joao da barra\n",
      "Processing Record 16 of Set 6 : sandwick\n",
      "Processing Record 17 of Set 6 : serpa\n",
      "Processing Record 18 of Set 6 : aykhal\n",
      "Processing Record 19 of Set 6 : champerico\n",
      "Processing Record 20 of Set 6 : coruripe\n",
      "Processing Record 21 of Set 6 : tianpeng\n",
      "Processing Record 22 of Set 6 : santa isabel do rio negro\n",
      "Processing Record 23 of Set 6 : carauari\n",
      "Processing Record 24 of Set 6 : presidencia roque saenz pena\n",
      "Processing Record 25 of Set 6 : el progreso\n",
      "Processing Record 26 of Set 6 : oussouye\n",
      "Processing Record 27 of Set 6 : luderitz\n",
      "City not found. Skipping...\n",
      "Processing Record 28 of Set 6 : pacific grove\n",
      "Processing Record 29 of Set 6 : mount gambier\n",
      "Processing Record 30 of Set 6 : alihe\n",
      "Processing Record 31 of Set 6 : klaksvik\n",
      "Processing Record 32 of Set 6 : vao\n",
      "Processing Record 33 of Set 6 : wyndham\n",
      "Processing Record 34 of Set 6 : barcelos\n",
      "Processing Record 35 of Set 6 : george town\n",
      "Processing Record 36 of Set 6 : jati\n",
      "Processing Record 37 of Set 6 : pokhara\n",
      "Processing Record 38 of Set 6 : turochak\n",
      "Processing Record 39 of Set 6 : la joya\n",
      "Processing Record 40 of Set 6 : provideniya\n",
      "Processing Record 41 of Set 6 : barranca\n",
      "Processing Record 42 of Set 6 : beira\n",
      "Processing Record 43 of Set 6 : madimba\n",
      "Processing Record 44 of Set 6 : jishou\n",
      "Processing Record 45 of Set 6 : alice springs\n",
      "Processing Record 46 of Set 6 : la ronge\n",
      "Processing Record 47 of Set 6 : katobu\n",
      "Processing Record 48 of Set 6 : vestmannaeyjar\n",
      "Processing Record 49 of Set 6 : buala\n",
      "City not found. Skipping...\n",
      "Processing Record 50 of Set 6 : trinidad\n",
      "Processing Record 0 of Set 7 : san jose\n",
      "City not found. Skipping...\n",
      "Processing Record 1 of Set 7 : metu\n",
      "City not found. Skipping...\n",
      "Processing Record 2 of Set 7 : cabo san lucas\n",
      "Processing Record 3 of Set 7 : plettenberg bay\n",
      "Processing Record 4 of Set 7 : wiwili\n",
      "Processing Record 5 of Set 7 : denpasar\n",
      "Processing Record 6 of Set 7 : savelugu\n",
      "Processing Record 7 of Set 7 : amahai\n",
      "Processing Record 8 of Set 7 : aginskoye\n",
      "Processing Record 9 of Set 7 : mount isa\n",
      "Processing Record 10 of Set 7 : dezhou\n",
      "Processing Record 11 of Set 7 : ilebo\n",
      "Processing Record 12 of Set 7 : manggar\n",
      "Processing Record 13 of Set 7 : ningxiang\n",
      "Processing Record 14 of Set 7 : vila\n",
      "Processing Record 15 of Set 7 : zhigansk\n",
      "Processing Record 16 of Set 7 : oranjemund\n",
      "Processing Record 17 of Set 7 : eirunepe\n",
      "Processing Record 18 of Set 7 : dalnerechensk\n",
      "Processing Record 19 of Set 7 : bonthe\n",
      "Processing Record 20 of Set 7 : husavik\n",
      "Processing Record 21 of Set 7 : abu dhabi\n",
      "Processing Record 22 of Set 7 : jos\n",
      "Processing Record 23 of Set 7 : santa maria\n",
      "Processing Record 24 of Set 7 : palmer\n",
      "Processing Record 25 of Set 7 : gladstone\n",
      "Processing Record 26 of Set 7 : merritt island\n",
      "Processing Record 27 of Set 7 : kangaatsiaq\n",
      "Processing Record 28 of Set 7 : los llanos de aridane\n",
      "Processing Record 29 of Set 7 : arlit\n",
      "Processing Record 30 of Set 7 : sardinata\n",
      "Processing Record 31 of Set 7 : ostersund\n",
      "Processing Record 32 of Set 7 : strelka\n",
      "Processing Record 33 of Set 7 : maniitsoq\n",
      "Processing Record 34 of Set 7 : kasungu\n",
      "Processing Record 35 of Set 7 : magadan\n",
      "Processing Record 36 of Set 7 : brae\n",
      "Processing Record 37 of Set 7 : saldanha\n",
      "Processing Record 38 of Set 7 : muravlenko\n",
      "Processing Record 39 of Set 7 : amazar\n",
      "Processing Record 40 of Set 7 : gravata\n",
      "Processing Record 41 of Set 7 : saint-louis\n",
      "City not found. Skipping...\n",
      "Processing Record 42 of Set 7 : skjervoy\n",
      "Processing Record 43 of Set 7 : high prairie\n",
      "Processing Record 44 of Set 7 : nhulunbuy\n",
      "Processing Record 45 of Set 7 : ancud\n",
      "Processing Record 46 of Set 7 : caucaia\n",
      "City not found. Skipping...\n",
      "Processing Record 47 of Set 7 : dunedin\n",
      "Processing Record 48 of Set 7 : nelson bay\n",
      "Processing Record 49 of Set 7 : den helder\n",
      "Processing Record 50 of Set 7 : mareeba\n",
      "Processing Record 0 of Set 8 : san ramon de la nueva oran\n",
      "Processing Record 1 of Set 8 : margate\n",
      "Processing Record 2 of Set 8 : goure\n",
      "Processing Record 3 of Set 8 : xichang\n",
      "Processing Record 4 of Set 8 : carbonia\n",
      "Processing Record 5 of Set 8 : aksu\n",
      "Processing Record 6 of Set 8 : gatesville\n",
      "Processing Record 7 of Set 8 : bilibino\n",
      "Processing Record 8 of Set 8 : padang\n",
      "Processing Record 9 of Set 8 : dingle\n",
      "Processing Record 10 of Set 8 : murshidabad\n",
      "Processing Record 11 of Set 8 : doha\n",
      "Processing Record 12 of Set 8 : qandala\n",
      "City not found. Skipping...\n",
      "Processing Record 13 of Set 8 : beringovskiy\n",
      "Processing Record 14 of Set 8 : yerbogachen\n",
      "Processing Record 15 of Set 8 : belyy yar\n",
      "Processing Record 16 of Set 8 : ahipara\n",
      "Processing Record 17 of Set 8 : roebourne\n"
     ]
    },
    {
     "name": "stdout",
     "output_type": "stream",
     "text": [
      "Processing Record 18 of Set 8 : san clemente\n",
      "Processing Record 19 of Set 8 : hay river\n",
      "Processing Record 20 of Set 8 : kanniyakumari\n",
      "Processing Record 21 of Set 8 : pombia\n",
      "Processing Record 22 of Set 8 : araouane\n",
      "Processing Record 23 of Set 8 : bayan\n",
      "City not found. Skipping...\n",
      "Processing Record 24 of Set 8 : majalgaon\n",
      "Processing Record 25 of Set 8 : fomboni\n",
      "Processing Record 26 of Set 8 : rabaul\n",
      "Processing Record 27 of Set 8 : golyshmanovo\n",
      "Processing Record 28 of Set 8 : banda aceh\n",
      "Processing Record 29 of Set 8 : binzhou\n",
      "Processing Record 30 of Set 8 : igarka\n",
      "City not found. Skipping...\n",
      "Processing Record 31 of Set 8 : vidim\n",
      "Processing Record 32 of Set 8 : umuarama\n",
      "Processing Record 33 of Set 8 : cherdyn\n",
      "Processing Record 34 of Set 8 : cap malheureux\n",
      "Processing Record 35 of Set 8 : vostok\n",
      "Processing Record 36 of Set 8 : olafsvik\n",
      "Processing Record 37 of Set 8 : berlevag\n",
      "Processing Record 38 of Set 8 : porbandar\n",
      "Processing Record 39 of Set 8 : waddan\n",
      "Processing Record 40 of Set 8 : poronaysk\n",
      "Processing Record 41 of Set 8 : bonavista\n",
      "City not found. Skipping...\n",
      "Processing Record 42 of Set 8 : ndioum\n",
      "Processing Record 43 of Set 8 : springbok\n",
      "Processing Record 44 of Set 8 : gushikawa\n",
      "Processing Record 45 of Set 8 : blagoyevo\n",
      "Processing Record 46 of Set 8 : yar-sale\n",
      "City not found. Skipping...\n",
      "Processing Record 47 of Set 8 : oskarshamn\n",
      "Processing Record 48 of Set 8 : neryungri\n",
      "Processing Record 49 of Set 8 : waingapu\n",
      "Processing Record 50 of Set 8 : garowe\n",
      "Processing Record 0 of Set 9 : baykit\n",
      "Processing Record 1 of Set 9 : dabat\n",
      "City not found. Skipping...\n",
      "Processing Record 2 of Set 9 : daru\n",
      "Processing Record 3 of Set 9 : whitehorse\n",
      "Processing Record 4 of Set 9 : liverpool\n",
      "City not found. Skipping...\n",
      "Processing Record 5 of Set 9 : hovd\n",
      "Processing Record 6 of Set 9 : pimentel\n",
      "Processing Record 7 of Set 9 : nuuk\n",
      "Processing Record 8 of Set 9 : cayenne\n",
      "Processing Record 9 of Set 9 : bengkulu\n",
      "Processing Record 10 of Set 9 : eyl\n",
      "Processing Record 11 of Set 9 : cidreira\n",
      "Processing Record 12 of Set 9 : kropotkin\n",
      "Processing Record 13 of Set 9 : shirokiy\n",
      "Processing Record 14 of Set 9 : san andres\n",
      "Processing Record 15 of Set 9 : appleton\n",
      "Processing Record 16 of Set 9 : hurghada\n",
      "Processing Record 17 of Set 9 : caluquembe\n",
      "Processing Record 18 of Set 9 : teya\n",
      "Processing Record 19 of Set 9 : tessalit\n",
      "Processing Record 20 of Set 9 : vallenar\n",
      "Processing Record 21 of Set 9 : okato\n",
      "Processing Record 22 of Set 9 : sivaki\n",
      "Processing Record 23 of Set 9 : tazovskiy\n",
      "Processing Record 24 of Set 9 : havoysund\n",
      "Processing Record 25 of Set 9 : praia da vitoria\n",
      "Processing Record 26 of Set 9 : hamilton\n",
      "City not found. Skipping...\n",
      "Processing Record 27 of Set 9 : jeremie\n",
      "Processing Record 28 of Set 9 : opuwo\n",
      "Processing Record 29 of Set 9 : nikolayevskaya\n",
      "Processing Record 30 of Set 9 : puerto del rosario\n",
      "Processing Record 31 of Set 9 : lata\n",
      "Processing Record 32 of Set 9 : san carlos de bariloche\n",
      "Processing Record 33 of Set 9 : leh\n",
      "Processing Record 34 of Set 9 : caravelas\n",
      "Processing Record 35 of Set 9 : dodge city\n",
      "City not found. Skipping...\n",
      "Processing Record 36 of Set 9 : faya\n",
      "Processing Record 37 of Set 9 : port-gentil\n",
      "Processing Record 38 of Set 9 : conde\n",
      "Processing Record 39 of Set 9 : lensk\n",
      "Processing Record 40 of Set 9 : auki\n",
      "Processing Record 41 of Set 9 : waldshut-tiengen\n",
      "Processing Record 42 of Set 9 : pitalito\n",
      "Processing Record 43 of Set 9 : kirkuk\n",
      "Processing Record 44 of Set 9 : hanyang\n",
      "Processing Record 45 of Set 9 : sassandra\n",
      "Processing Record 46 of Set 9 : kamiiso\n",
      "Processing Record 47 of Set 9 : krutinka\n",
      "Processing Record 48 of Set 9 : kavaratti\n",
      "Processing Record 49 of Set 9 : encheng\n",
      "City not found. Skipping...\n",
      "Processing Record 50 of Set 9 : saint-augustin\n",
      "Processing Record 0 of Set 10 : la libertad\n",
      "Processing Record 1 of Set 10 : balkanabat\n",
      "Processing Record 2 of Set 10 : puerto asis\n",
      "Processing Record 3 of Set 10 : guiratinga\n",
      "Processing Record 4 of Set 10 : poum\n",
      "Processing Record 5 of Set 10 : muzhi\n",
      "Processing Record 6 of Set 10 : channel-port aux basques\n",
      "Processing Record 7 of Set 10 : charlottesville\n",
      "Processing Record 8 of Set 10 : sola\n",
      "Processing Record 9 of Set 10 : tautira\n",
      "Processing Record 10 of Set 10 : chimbote\n",
      "Processing Record 11 of Set 10 : tera\n",
      "Processing Record 12 of Set 10 : kyzyl\n",
      "City not found. Skipping...\n",
      "Processing Record 13 of Set 10 : pecos\n",
      "Processing Record 14 of Set 10 : verkhnyaya inta\n",
      "Processing Record 15 of Set 10 : usinsk\n",
      "Processing Record 16 of Set 10 : waw\n",
      "Processing Record 17 of Set 10 : cascais\n",
      "Processing Record 18 of Set 10 : iralaya\n",
      "Processing Record 19 of Set 10 : ravar\n",
      "Processing Record 20 of Set 10 : ionia\n",
      "Processing Record 21 of Set 10 : collie\n",
      "Processing Record 22 of Set 10 : caconda\n",
      "Processing Record 23 of Set 10 : gilbues\n",
      "Processing Record 24 of Set 10 : sayansk\n",
      "Processing Record 25 of Set 10 : ugoofaaru\n",
      "Processing Record 26 of Set 10 : burgersdorp\n",
      "Processing Record 27 of Set 10 : batticaloa\n",
      "Processing Record 28 of Set 10 : pakxan\n",
      "City not found. Skipping...\n",
      "Processing Record 29 of Set 10 : havre-saint-pierre\n",
      "Processing Record 30 of Set 10 : nsanje\n",
      "Processing Record 31 of Set 10 : susanville\n",
      "Processing Record 32 of Set 10 : anuchino\n",
      "Processing Record 33 of Set 10 : laukaa\n",
      "Processing Record 34 of Set 10 : hervey bay\n",
      "Processing Record 35 of Set 10 : adrar\n",
      "Processing Record 36 of Set 10 : sambava\n",
      "Processing Record 37 of Set 10 : eisenstadt\n",
      "City not found. Skipping...\n",
      "Processing Record 38 of Set 10 : bording\n",
      "Processing Record 39 of Set 10 : gat\n",
      "Processing Record 40 of Set 10 : kiunga\n",
      "Processing Record 41 of Set 10 : biasca\n",
      "Processing Record 42 of Set 10 : naze\n",
      "Processing Record 43 of Set 10 : srednebelaya\n",
      "Processing Record 44 of Set 10 : manado\n",
      "Processing Record 45 of Set 10 : ust-nera\n",
      "Processing Record 46 of Set 10 : karlstad\n",
      "Processing Record 47 of Set 10 : kathu\n",
      "Processing Record 48 of Set 10 : hasaki\n",
      "Processing Record 49 of Set 10 : labuan\n",
      "Processing Record 50 of Set 10 : tirana\n",
      "Processing Record 0 of Set 11 : mendeleyevo\n",
      "Processing Record 1 of Set 11 : suozhen\n",
      "Processing Record 2 of Set 11 : malanje\n",
      "Processing Record 3 of Set 11 : kemin\n",
      "Processing Record 4 of Set 11 : buin\n",
      "Processing Record 5 of Set 11 : mathbaria\n",
      "Processing Record 6 of Set 11 : cheremukhovo\n",
      "Processing Record 7 of Set 11 : puerto escondido\n",
      "Processing Record 8 of Set 11 : batagay-alyta\n",
      "Processing Record 9 of Set 11 : sackville\n",
      "Processing Record 10 of Set 11 : verkhnevilyuysk\n",
      "Processing Record 11 of Set 11 : avera\n",
      "Processing Record 12 of Set 11 : paredon\n",
      "Processing Record 13 of Set 11 : krasnoselkup\n",
      "City not found. Skipping...\n",
      "Processing Record 14 of Set 11 : la asuncion\n",
      "Processing Record 15 of Set 11 : ust-kulom\n",
      "Processing Record 16 of Set 11 : dali\n",
      "Processing Record 17 of Set 11 : kabo\n",
      "Processing Record 18 of Set 11 : beyneu\n",
      "Processing Record 19 of Set 11 : ucluelet\n",
      "Processing Record 20 of Set 11 : trelew\n",
      "Processing Record 21 of Set 11 : biltine\n",
      "Processing Record 22 of Set 11 : texarkana\n",
      "City not found. Skipping...\n",
      "Processing Record 23 of Set 11 : kahului\n",
      "Processing Record 24 of Set 11 : polis\n",
      "Processing Record 25 of Set 11 : kathmandu\n",
      "Processing Record 26 of Set 11 : barugo\n",
      "Processing Record 27 of Set 11 : meulaboh\n",
      "Processing Record 28 of Set 11 : qarchak\n",
      "Processing Record 29 of Set 11 : vila franca do campo\n",
      "Processing Record 30 of Set 11 : dawei\n",
      "Processing Record 31 of Set 11 : port pirie\n",
      "Processing Record 32 of Set 11 : alcudia\n",
      "Processing Record 33 of Set 11 : anadyr\n",
      "Processing Record 34 of Set 11 : odemira\n",
      "Processing Record 35 of Set 11 : morondava\n",
      "City not found. Skipping...\n",
      "City not found. Skipping...\n",
      "Processing Record 36 of Set 11 : kuytun\n",
      "Processing Record 37 of Set 11 : saeby\n",
      "Processing Record 38 of Set 11 : staropavlovskaya\n",
      "Processing Record 39 of Set 11 : sabang\n",
      "Processing Record 40 of Set 11 : grand gaube\n",
      "Processing Record 41 of Set 11 : ariquemes\n",
      "Processing Record 42 of Set 11 : coquimbo\n",
      "Processing Record 43 of Set 11 : qingdao\n",
      "City not found. Skipping...\n",
      "Processing Record 44 of Set 11 : andilamena\n",
      "Processing Record 45 of Set 11 : gerash\n",
      "Processing Record 46 of Set 11 : vila do maio\n",
      "Processing Record 47 of Set 11 : maragogi\n",
      "Processing Record 48 of Set 11 : coolum beach\n",
      "Processing Record 49 of Set 11 : saint-francois\n",
      "Processing Record 50 of Set 11 : carlyle\n"
     ]
    },
    {
     "name": "stdout",
     "output_type": "stream",
     "text": [
      "Processing Record 0 of Set 12 : turukhansk\n",
      "Processing Record 1 of Set 12 : kewanee\n",
      "Processing Record 2 of Set 12 : burgeo\n",
      "Processing Record 3 of Set 12 : vytegra\n",
      "City not found. Skipping...\n",
      "City not found. Skipping...\n",
      "Processing Record 4 of Set 12 : brownwood\n",
      "City not found. Skipping...\n",
      "Processing Record 5 of Set 12 : dwarka\n",
      "City not found. Skipping...\n",
      "Processing Record 6 of Set 12 : sovetskiy\n",
      "City not found. Skipping...\n",
      "Processing Record 7 of Set 12 : blagoveshchenka\n",
      "Processing Record 8 of Set 12 : punta gorda\n",
      "Processing Record 9 of Set 12 : manuk mangkaw\n",
      "Processing Record 10 of Set 12 : kilakarai\n",
      "Processing Record 11 of Set 12 : tuyen quang\n",
      "Processing Record 12 of Set 12 : zhezkazgan\n",
      "Processing Record 13 of Set 12 : rio grande\n",
      "Processing Record 14 of Set 12 : anta\n",
      "Processing Record 15 of Set 12 : odessa\n",
      "Processing Record 16 of Set 12 : te anau\n",
      "Processing Record 17 of Set 12 : kenora\n",
      "Processing Record 18 of Set 12 : almaznyy\n",
      "Processing Record 19 of Set 12 : itarema\n",
      "Processing Record 20 of Set 12 : odweyne\n",
      "City not found. Skipping...\n"
     ]
    }
   ],
   "source": [
    "#Data Retrieval\n",
    "base_url = \"http://api.openweathermap.org/data/2.5/weather?\"\n",
    "units = \"imperial\"\n",
    "query_url = f\"{base_url}appid={weather_api_key}&units={units}&q=\"\n",
    "\n",
    "\n",
    "# For each city name in cities list, do below things...\n",
    "for index, city in enumerate(cities, start = 1):\n",
    "    try:\n",
    "        response = requests.get(query_url + city).json()\n",
    "        city_name_list.append(response[\"name\"])\n",
    "        cloudiness_list.append(response[\"clouds\"][\"all\"])\n",
    "        country_list.append(response[\"sys\"][\"country\"])\n",
    "        date_list.append(response[\"dt\"])\n",
    "        humidity_list.append(response[\"main\"][\"humidity\"])\n",
    "        lat_list.append(response[\"coord\"][\"lat\"])\n",
    "        lng_list.append(response[\"coord\"][\"lon\"])\n",
    "        max_temp_list.append(response['main']['temp_max'])\n",
    "        wind_speed_list.append(response[\"wind\"][\"speed\"])\n",
    "        if index_counter > 49:\n",
    "            index_counter = 0\n",
    "            set_counter = set_counter + 1\n",
    "    \n",
    "        else:\n",
    "            index_counter = index_counter + 1\n",
    "            \n",
    "        print(f\"Processing Record {index_counter} of Set {set_counter} : {city}\") \n",
    "  \n",
    "    except(KeyError, IndexError):\n",
    "        print(\"City not found. Skipping...\")\n",
    "\n"
   ]
  },
  {
   "cell_type": "markdown",
   "metadata": {},
   "source": [
    "### Convert Raw Data to DataFrame\n",
    "* Export the city data into a .csv.\n",
    "* Display the DataFrame"
   ]
  },
  {
   "cell_type": "code",
   "execution_count": 14,
   "metadata": {},
   "outputs": [],
   "source": [
    "#Creating DataFrame\n",
    "weather_dict = pd.DataFrame({\n",
    "    \"City\": city_name_list,\n",
    "    \"Cloudiness\": cloudiness_list,\n",
    "    \"Country\": country_list,\n",
    "    \"Date\": date_list,\n",
    "    \"Humidity\": humidity_list,\n",
    "    \"Latitude\": lat_list,\n",
    "    \"Longitude\": lng_list,\n",
    "    \"Max Temperature\": max_temp_list,\n",
    "    \"Wind Speed (mph)\": wind_speed_list\n",
    "})"
   ]
  },
  {
   "cell_type": "code",
   "execution_count": 15,
   "metadata": {},
   "outputs": [
    {
     "data": {
      "text/plain": [
       "City                581\n",
       "Cloudiness          581\n",
       "Country             581\n",
       "Date                581\n",
       "Humidity            581\n",
       "Latitude            581\n",
       "Longitude           581\n",
       "Max Temperature     581\n",
       "Wind Speed (mph)    581\n",
       "dtype: int64"
      ]
     },
     "execution_count": 15,
     "metadata": {},
     "output_type": "execute_result"
    }
   ],
   "source": [
    "weather_dict.count()"
   ]
  },
  {
   "cell_type": "code",
   "execution_count": 16,
   "metadata": {},
   "outputs": [
    {
     "data": {
      "text/html": [
       "<div>\n",
       "<style scoped>\n",
       "    .dataframe tbody tr th:only-of-type {\n",
       "        vertical-align: middle;\n",
       "    }\n",
       "\n",
       "    .dataframe tbody tr th {\n",
       "        vertical-align: top;\n",
       "    }\n",
       "\n",
       "    .dataframe thead th {\n",
       "        text-align: right;\n",
       "    }\n",
       "</style>\n",
       "<table border=\"1\" class=\"dataframe\">\n",
       "  <thead>\n",
       "    <tr style=\"text-align: right;\">\n",
       "      <th></th>\n",
       "      <th>City</th>\n",
       "      <th>Cloudiness</th>\n",
       "      <th>Country</th>\n",
       "      <th>Date</th>\n",
       "      <th>Humidity</th>\n",
       "      <th>Latitude</th>\n",
       "      <th>Longitude</th>\n",
       "      <th>Max Temperature</th>\n",
       "      <th>Wind Speed (mph)</th>\n",
       "    </tr>\n",
       "  </thead>\n",
       "  <tbody>\n",
       "    <tr>\n",
       "      <th>0</th>\n",
       "      <td>Saint-Joseph</td>\n",
       "      <td>12</td>\n",
       "      <td>RE</td>\n",
       "      <td>1666748554</td>\n",
       "      <td>70</td>\n",
       "      <td>-21.3667</td>\n",
       "      <td>55.6167</td>\n",
       "      <td>66.58</td>\n",
       "      <td>9.66</td>\n",
       "    </tr>\n",
       "    <tr>\n",
       "      <th>1</th>\n",
       "      <td>Gilgit</td>\n",
       "      <td>2</td>\n",
       "      <td>PK</td>\n",
       "      <td>1666748554</td>\n",
       "      <td>43</td>\n",
       "      <td>35.9221</td>\n",
       "      <td>74.3087</td>\n",
       "      <td>57.40</td>\n",
       "      <td>1.66</td>\n",
       "    </tr>\n",
       "    <tr>\n",
       "      <th>2</th>\n",
       "      <td>Fernie</td>\n",
       "      <td>100</td>\n",
       "      <td>CA</td>\n",
       "      <td>1666748554</td>\n",
       "      <td>94</td>\n",
       "      <td>49.5000</td>\n",
       "      <td>-115.0687</td>\n",
       "      <td>39.29</td>\n",
       "      <td>5.03</td>\n",
       "    </tr>\n",
       "    <tr>\n",
       "      <th>3</th>\n",
       "      <td>Tiksi</td>\n",
       "      <td>100</td>\n",
       "      <td>RU</td>\n",
       "      <td>1666748496</td>\n",
       "      <td>88</td>\n",
       "      <td>71.6872</td>\n",
       "      <td>128.8694</td>\n",
       "      <td>17.85</td>\n",
       "      <td>14.99</td>\n",
       "    </tr>\n",
       "    <tr>\n",
       "      <th>4</th>\n",
       "      <td>Torbay</td>\n",
       "      <td>20</td>\n",
       "      <td>CA</td>\n",
       "      <td>1666748555</td>\n",
       "      <td>87</td>\n",
       "      <td>47.6666</td>\n",
       "      <td>-52.7314</td>\n",
       "      <td>55.27</td>\n",
       "      <td>14.97</td>\n",
       "    </tr>\n",
       "    <tr>\n",
       "      <th>...</th>\n",
       "      <td>...</td>\n",
       "      <td>...</td>\n",
       "      <td>...</td>\n",
       "      <td>...</td>\n",
       "      <td>...</td>\n",
       "      <td>...</td>\n",
       "      <td>...</td>\n",
       "      <td>...</td>\n",
       "      <td>...</td>\n",
       "    </tr>\n",
       "    <tr>\n",
       "      <th>576</th>\n",
       "      <td>Te Anau</td>\n",
       "      <td>100</td>\n",
       "      <td>NZ</td>\n",
       "      <td>1666748546</td>\n",
       "      <td>80</td>\n",
       "      <td>-45.4167</td>\n",
       "      <td>167.7167</td>\n",
       "      <td>55.24</td>\n",
       "      <td>5.57</td>\n",
       "    </tr>\n",
       "    <tr>\n",
       "      <th>577</th>\n",
       "      <td>Kenora</td>\n",
       "      <td>75</td>\n",
       "      <td>CA</td>\n",
       "      <td>1666748523</td>\n",
       "      <td>80</td>\n",
       "      <td>49.8167</td>\n",
       "      <td>-94.4337</td>\n",
       "      <td>32.97</td>\n",
       "      <td>8.05</td>\n",
       "    </tr>\n",
       "    <tr>\n",
       "      <th>578</th>\n",
       "      <td>Almaznyy</td>\n",
       "      <td>100</td>\n",
       "      <td>RU</td>\n",
       "      <td>1666748750</td>\n",
       "      <td>85</td>\n",
       "      <td>48.0448</td>\n",
       "      <td>40.0450</td>\n",
       "      <td>48.54</td>\n",
       "      <td>7.65</td>\n",
       "    </tr>\n",
       "    <tr>\n",
       "      <th>579</th>\n",
       "      <td>Itarema</td>\n",
       "      <td>100</td>\n",
       "      <td>BR</td>\n",
       "      <td>1666748750</td>\n",
       "      <td>77</td>\n",
       "      <td>-2.9248</td>\n",
       "      <td>-39.9167</td>\n",
       "      <td>78.37</td>\n",
       "      <td>13.13</td>\n",
       "    </tr>\n",
       "    <tr>\n",
       "      <th>580</th>\n",
       "      <td>Oodweyne</td>\n",
       "      <td>3</td>\n",
       "      <td>SO</td>\n",
       "      <td>1666748751</td>\n",
       "      <td>78</td>\n",
       "      <td>9.4092</td>\n",
       "      <td>45.0640</td>\n",
       "      <td>70.70</td>\n",
       "      <td>1.99</td>\n",
       "    </tr>\n",
       "  </tbody>\n",
       "</table>\n",
       "<p>581 rows × 9 columns</p>\n",
       "</div>"
      ],
      "text/plain": [
       "             City  Cloudiness Country        Date  Humidity  Latitude  \\\n",
       "0    Saint-Joseph          12      RE  1666748554        70  -21.3667   \n",
       "1          Gilgit           2      PK  1666748554        43   35.9221   \n",
       "2          Fernie         100      CA  1666748554        94   49.5000   \n",
       "3           Tiksi         100      RU  1666748496        88   71.6872   \n",
       "4          Torbay          20      CA  1666748555        87   47.6666   \n",
       "..            ...         ...     ...         ...       ...       ...   \n",
       "576       Te Anau         100      NZ  1666748546        80  -45.4167   \n",
       "577        Kenora          75      CA  1666748523        80   49.8167   \n",
       "578      Almaznyy         100      RU  1666748750        85   48.0448   \n",
       "579       Itarema         100      BR  1666748750        77   -2.9248   \n",
       "580      Oodweyne           3      SO  1666748751        78    9.4092   \n",
       "\n",
       "     Longitude  Max Temperature  Wind Speed (mph)  \n",
       "0      55.6167            66.58              9.66  \n",
       "1      74.3087            57.40              1.66  \n",
       "2    -115.0687            39.29              5.03  \n",
       "3     128.8694            17.85             14.99  \n",
       "4     -52.7314            55.27             14.97  \n",
       "..         ...              ...               ...  \n",
       "576   167.7167            55.24              5.57  \n",
       "577   -94.4337            32.97              8.05  \n",
       "578    40.0450            48.54              7.65  \n",
       "579   -39.9167            78.37             13.13  \n",
       "580    45.0640            70.70              1.99  \n",
       "\n",
       "[581 rows x 9 columns]"
      ]
     },
     "execution_count": 16,
     "metadata": {},
     "output_type": "execute_result"
    }
   ],
   "source": [
    "#Display DataFrame\n",
    "weather_dict"
   ]
  },
  {
   "cell_type": "markdown",
   "metadata": {},
   "source": [
    "## Inspect the data and remove the cities where the humidity > 100%.\n",
    "----\n",
    "Skip this step if there are no cities that have humidity > 100%. "
   ]
  },
  {
   "cell_type": "code",
   "execution_count": 24,
   "metadata": {},
   "outputs": [
    {
     "name": "stdout",
     "output_type": "stream",
     "text": [
      "count    581.000000\n",
      "mean      74.061962\n",
      "std       19.036071\n",
      "min       13.000000\n",
      "25%       64.000000\n",
      "50%       79.000000\n",
      "75%       89.000000\n",
      "max      100.000000\n",
      "Name: Humidity, dtype: float64\n",
      "Based on the statistics above, we can confirm that there are no cities in our Data Frame with Humidity Levels Above 100%\n"
     ]
    }
   ],
   "source": [
    "humidity_cities = weather_dict[\"Humidity\"].describe(include=\"all\")\n",
    "print(humidity_cities)\n",
    "print(\"Based on the statistics above, we can confirm that there are no cities in our Data Frame with Humidity Levels Above 100%\")"
   ]
  },
  {
   "cell_type": "markdown",
   "metadata": {},
   "source": [
    "## Plotting the Data\n",
    "* Use proper labeling of the plots using plot titles (including date of analysis) and axes labels.\n",
    "* Save the plotted figures as .pngs."
   ]
  },
  {
   "cell_type": "markdown",
   "metadata": {},
   "source": [
    "## Latitude vs. Temperature Plot"
   ]
  },
  {
   "cell_type": "code",
   "execution_count": 9,
   "metadata": {
    "scrolled": true
   },
   "outputs": [
    {
     "data": {
      "text/plain": [
       "<function matplotlib.pyplot.show(close=None, block=None)>"
      ]
     },
     "execution_count": 9,
     "metadata": {},
     "output_type": "execute_result"
    },
    {
     "data": {
      "image/png": "[encoded data removed]",
      "text/plain": [
       "<Figure size 432x288 with 1 Axes>"
      ]
     },
     "metadata": {
      "needs_background": "light"
     },
     "output_type": "display_data"
    }
   ],
   "source": [
    "#Creating a Scatter Plot to Look at Latitude vs Temperature\n",
    "plt.scatter(weather_dict[\"Latitude\"], weather_dict[\"Max Temperature\"], color = \"red\", edgecolor = \"black\")\n",
    "\n",
    "#Formatting Scatter Plot\n",
    "plt.title(\"Latitude vs Maximum Temperature\")\n",
    "plt.xlabel(\"Latitude\")\n",
    "plt.ylabel(\"Max Temperature (F)\")\n",
    "plt.grid(linestyle='-', linewidth=1, alpha=0.5)\n",
    "plt.savefig(\"../Images/Latitude vs Maximum Temperature.png\")\n",
    "\n",
    "plt.show"
   ]
  },
  {
   "cell_type": "markdown",
   "metadata": {},
   "source": [
    "## Latitude vs. Humidity Plot"
   ]
  },
  {
   "cell_type": "code",
   "execution_count": 10,
   "metadata": {},
   "outputs": [
    {
     "data": {
      "text/plain": [
       "<function matplotlib.pyplot.show(close=None, block=None)>"
      ]
     },
     "execution_count": 10,
     "metadata": {},
     "output_type": "execute_result"
    },
    {
     "data": {
      "image/png": "[encoded data removed]",
      "text/plain": [
       "<Figure size 432x288 with 1 Axes>"
      ]
     },
     "metadata": {
      "needs_background": "light"
     },
     "output_type": "display_data"
    }
   ],
   "source": [
    "#Create a Scatter Plot showi Latitude vs Humidity \n",
    "plt.scatter(weather_dict[\"Latitude\"], weather_dict[\"Humidity\"], color= \"blue\")\n",
    "\n",
    "#Formatting\n",
    "plt.title(\"Latitude vs Humidity\")\n",
    "plt.xlabel(\"Latitude\")\n",
    "plt.ylabel(\"Humidity (%)\")\n",
    "plt.grid(linestyle='-', linewidth=1, alpha=0.5)\n",
    "plt.savefig(\"../Images/Latitude vs Humidity.png\")\n",
    "\n",
    "plt.show"
   ]
  },
  {
   "cell_type": "markdown",
   "metadata": {},
   "source": [
    "## Latitude vs. Cloudiness Plot"
   ]
  },
  {
   "cell_type": "code",
   "execution_count": 11,
   "metadata": {},
   "outputs": [
    {
     "data": {
      "text/plain": [
       "<function matplotlib.pyplot.show(close=None, block=None)>"
      ]
     },
     "execution_count": 11,
     "metadata": {},
     "output_type": "execute_result"
    },
    {
     "data": {
      "image/png": "[encoded data removed]",
      "text/plain": [
       "<Figure size 432x288 with 1 Axes>"
      ]
     },
     "metadata": {
      "needs_background": "light"
     },
     "output_type": "display_data"
    }
   ],
   "source": [
    "#Generate a Scatter Plot showing Latitude vs Cloudiness\n",
    "plt.scatter(weather_dict[\"Latitude\"], weather_dict[\"Cloudiness\"], color = 'gray')\n",
    "\n",
    "#Formatting\n",
    "plt.title(\"Latitued vs Cloudiness\")\n",
    "plt.xlabel(\"Latitude\")\n",
    "plt.ylabel(\"Cloudiness\")\n",
    "plt.grid(linestyle = '-', linewidth=1, alpha=0.5)\n",
    "plt.savefig(\"../Images/Latitude vs Cloudiness.png\")\n",
    "\n",
    "plt.show"
   ]
  },
  {
   "cell_type": "markdown",
   "metadata": {},
   "source": [
    "## Latitude vs. Wind Speed Plot"
   ]
  },
  {
   "cell_type": "code",
   "execution_count": 12,
   "metadata": {},
   "outputs": [
    {
     "data": {
      "text/plain": [
       "<function matplotlib.pyplot.show(close=None, block=None)>"
      ]
     },
     "execution_count": 12,
     "metadata": {},
     "output_type": "execute_result"
    },
    {
     "data": {
      "image/png": "[encoded data removed]",
      "text/plain": [
       "<Figure size 432x288 with 1 Axes>"
      ]
     },
     "metadata": {
      "needs_background": "light"
     },
     "output_type": "display_data"
    }
   ],
   "source": [
    "#Generate a Scatter Plot showing Latitude vs Wind Speed in mph\n",
    "plt.scatter(weather_dict[\"Latitude\"], weather_dict[\"Wind Speed (mph)\"], color = 'black')\n",
    "\n",
    "#Formatting\n",
    "plt.title(\"Latitude vs Wind Speed\")\n",
    "plt.xlabel(\"Latitude\")\n",
    "plt.ylabel(\"Wind Speed (mph)\")\n",
    "plt.grid(linestyle = '-', linewidth=1, alpha=0.5)\n",
    "plt.savefig(\"../Images/Latitude vs Wind Speed.png\")\n",
    "\n",
    "plt.show"
   ]
  },
  {
   "cell_type": "markdown",
   "metadata": {},
   "source": [
    "## Linear Regression"
   ]
  },
  {
   "cell_type": "code",
   "execution_count": 13,
   "metadata": {},
   "outputs": [],
   "source": [
    "#Create DataFrames seperating the Northern and Southern Hemispheres\n",
    "northern_hemisphere = weather_dict.loc[weather_dict[\"Latitude\"] >= 0]\n",
    "southern_hemisphere = weather_dict.loc[weather_dict[\"Latitude\"] < 0]"
   ]
  },
  {
   "cell_type": "code",
   "execution_count": 14,
   "metadata": {},
   "outputs": [],
   "source": [
    "#Define linear regression function for the scatter plots\n",
    "def linear_regression(x,y):\n",
    "    print(f\"The r-squared is: {round(st.pearsonr(x,y)[0],2)}\")\n",
    "    (slope, intercept, rvalue, pvalue, stderr) = linregress(x,y)\n",
    "    regress_values = x * slope + intercept\n",
    "    line_eq = \"y = \" + str(round(slope,2)) + \"x + \" + str(round(intercept,2))\n",
    "    plt.scatter(x,y)\n",
    "    plt.plot(x, regress_values,\"r-\")\n",
    "    return line_eq\n",
    "def annotate(line_eq, a, b):\n",
    "    plt.annotate(line_eq,(a,b), fontsize=16, color='orange')"
   ]
  },
  {
   "cell_type": "markdown",
   "metadata": {},
   "source": [
    "####  Northern Hemisphere - Max Temp vs. Latitude Linear Regression"
   ]
  },
  {
   "cell_type": "code",
   "execution_count": 15,
   "metadata": {},
   "outputs": [
    {
     "name": "stdout",
     "output_type": "stream",
     "text": [
      "The r-squared is: -0.89\n"
     ]
    },
    {
     "data": {
      "image/png": "[encoded data removed]",
      "text/plain": [
       "<Figure size 432x288 with 1 Axes>"
      ]
     },
     "metadata": {
      "needs_background": "light"
     },
     "output_type": "display_data"
    }
   ],
   "source": [
    "#For the Max Temp vs Lat Linear Regression in the Northern Hemisphere\n",
    "equation = linear_regression(northern_hemisphere[\"Latitude\"], northern_hemisphere[\"Max Temperature\"])\n",
    "annotate(equation, 10, 10)\n",
    "\n",
    "#Formatting\n",
    "plt.title(\"Max Temperature per Latitude in the Northern Hemisphere\")\n",
    "plt.xlabel(\"Latitude\")\n",
    "plt.ylabel(\"Max Temperature (F)\")\n",
    "plt.savefig(\"../Images/Max Temperature vs Latitude in the Northern Hemishpere.png\")"
   ]
  },
  {
   "cell_type": "markdown",
   "metadata": {},
   "source": [
    "####  Southern Hemisphere - Max Temp vs. Latitude Linear Regression"
   ]
  },
  {
   "cell_type": "code",
   "execution_count": 16,
   "metadata": {},
   "outputs": [
    {
     "name": "stdout",
     "output_type": "stream",
     "text": [
      "The r-squared is: 0.66\n"
     ]
    },
    {
     "data": {
      "image/png": "[encoded data removed]",
      "text/plain": [
       "<Figure size 432x288 with 1 Axes>"
      ]
     },
     "metadata": {
      "needs_background": "light"
     },
     "output_type": "display_data"
    }
   ],
   "source": [
    "#For the Max Temp vs Lat Linear Regression in the Southern Hemisphere\n",
    "equation = linear_regression(southern_hemisphere[\"Latitude\"], southern_hemisphere[\"Max Temperature\"])\n",
    "annotate(equation, -50, 90)\n",
    "\n",
    "#Formatting\n",
    "plt.title(\"Max Temperature per Latitude in the Southern Hemisphere\")\n",
    "plt.xlabel(\"Latitude\")\n",
    "plt.ylabel(\"Max Temperature (F)\")\n",
    "plt.savefig(\"../Images/Max Temperature vs Latitude in the Southern Hemishpere.png\")"
   ]
  },
  {
   "cell_type": "markdown",
   "metadata": {},
   "source": [
    "####  Northern Hemisphere - Humidity (%) vs. Latitude Linear Regression"
   ]
  },
  {
   "cell_type": "code",
   "execution_count": 18,
   "metadata": {},
   "outputs": [
    {
     "name": "stdout",
     "output_type": "stream",
     "text": [
      "The r-squared is: 0.21\n"
     ]
    },
    {
     "data": {
      "image/png": "[encoded data removed]",
      "text/plain": [
       "<Figure size 432x288 with 1 Axes>"
      ]
     },
     "metadata": {
      "needs_background": "light"
     },
     "output_type": "display_data"
    }
   ],
   "source": [
    "#For the Humidity vs Lat Linear Regression in the Northern Hemisphere\n",
    "equation = linear_regression(northern_hemisphere[\"Latitude\"], northern_hemisphere[\"Humidity\"])\n",
    "annotate(equation, 60, 30)\n",
    "\n",
    "#Formatting\n",
    "plt.title(\"Humidity per Latitude in the Northern Hemisphere\")\n",
    "plt.xlabel(\"Latitude\")\n",
    "plt.ylabel(\"Humidity (%)\")\n",
    "plt.savefig(\"../Images/Humidity vs Latitude in the Northern Hemishpere.png\")"
   ]
  },
  {
   "cell_type": "markdown",
   "metadata": {},
   "source": [
    "####  Southern Hemisphere - Humidity (%) vs. Latitude Linear Regression"
   ]
  },
  {
   "cell_type": "code",
   "execution_count": 19,
   "metadata": {},
   "outputs": [
    {
     "name": "stdout",
     "output_type": "stream",
     "text": [
      "The r-squared is: 0.2\n"
     ]
    },
    {
     "data": {
      "image/png": "[encoded data removed]",
      "text/plain": [
       "<Figure size 432x288 with 1 Axes>"
      ]
     },
     "metadata": {
      "needs_background": "light"
     },
     "output_type": "display_data"
    }
   ],
   "source": [
    "#For the Humidity vs Lat Linear Regression in the Southern Hemisphere\n",
    "equation = linear_regression(southern_hemisphere[\"Latitude\"], southern_hemisphere[\"Humidity\"])\n",
    "annotate(equation, -30, 20)\n",
    "\n",
    "#Formatting\n",
    "plt.title(\"Humidity per Latitude in the Southern Hemisphere\")\n",
    "plt.xlabel(\"Latitude\")\n",
    "plt.ylabel(\"Humidity (%)\")\n",
    "plt.savefig(\"../Images/Humidity vs Latitude in the Southern Hemishpere.png\")"
   ]
  },
  {
   "cell_type": "markdown",
   "metadata": {},
   "source": [
    "####  Northern Hemisphere - Cloudiness (%) vs. Latitude Linear Regression"
   ]
  },
  {
   "cell_type": "code",
   "execution_count": 21,
   "metadata": {},
   "outputs": [
    {
     "name": "stdout",
     "output_type": "stream",
     "text": [
      "The r-squared is: 0.23\n"
     ]
    },
    {
     "data": {
      "image/png": "[encoded data removed]",
      "text/plain": [
       "<Figure size 432x288 with 1 Axes>"
      ]
     },
     "metadata": {
      "needs_background": "light"
     },
     "output_type": "display_data"
    }
   ],
   "source": [
    "#For the Cloudiness(%) vs Lat Linear Regression in the Northern Hemisphere\n",
    "equation = linear_regression(northern_hemisphere[\"Latitude\"], northern_hemisphere[\"Cloudiness\"])\n",
    "annotate(equation, 70, 60)\n",
    "\n",
    "#Formatting\n",
    "plt.title(\"Cloudiness per Latitude in the Northern Hemisphere\")\n",
    "plt.xlabel(\"Latitude\")\n",
    "plt.ylabel(\"Cloudiness (%)\")\n",
    "plt.savefig(\"../Images/Cloudiness vs Latitude in the Northern Hemishpere.png\")"
   ]
  },
  {
   "cell_type": "markdown",
   "metadata": {},
   "source": [
    "####  Southern Hemisphere - Cloudiness (%) vs. Latitude Linear Regression"
   ]
  },
  {
   "cell_type": "code",
   "execution_count": 22,
   "metadata": {},
   "outputs": [
    {
     "name": "stdout",
     "output_type": "stream",
     "text": [
      "The r-squared is: 0.07\n"
     ]
    },
    {
     "data": {
      "image/png": "[encoded data removed]",
      "text/plain": [
       "<Figure size 432x288 with 1 Axes>"
      ]
     },
     "metadata": {
      "needs_background": "light"
     },
     "output_type": "display_data"
    }
   ],
   "source": [
    "#For the Cloudiness(%) vs Lat Linear Regression in the Southern Hemisphere\n",
    "equation = linear_regression(southern_hemisphere[\"Latitude\"], southern_hemisphere[\"Cloudiness\"])\n",
    "annotate(equation, -50, 40)\n",
    "\n",
    "#Formatting\n",
    "plt.title(\"Cloudiness per Latitude in the Southern Hemisphere\")\n",
    "plt.xlabel(\"Latitude\")\n",
    "plt.ylabel(\"Cloudiness (%)\")\n",
    "plt.savefig(\"../Images/Cloudiness vs Latitude in the Southern Hemishpere.png\")"
   ]
  },
  {
   "cell_type": "markdown",
   "metadata": {},
   "source": [
    "####  Northern Hemisphere - Wind Speed (mph) vs. Latitude Linear Regression"
   ]
  },
  {
   "cell_type": "code",
   "execution_count": 23,
   "metadata": {},
   "outputs": [
    {
     "name": "stdout",
     "output_type": "stream",
     "text": [
      "The r-squared is: 0.24\n"
     ]
    },
    {
     "data": {
      "image/png": "[encoded data removed]",
      "text/plain": [
       "<Figure size 432x288 with 1 Axes>"
      ]
     },
     "metadata": {
      "needs_background": "light"
     },
     "output_type": "display_data"
    }
   ],
   "source": [
    "#For the Wind Speed (mph) vs Lat Linear Regression in the Northern Hemisphere\n",
    "equation = linear_regression(northern_hemisphere[\"Latitude\"], northern_hemisphere[\"Wind Speed (mph)\"])\n",
    "annotate(equation, 10, 40)\n",
    "\n",
    "#Formatting\n",
    "plt.title(\"Wind Speed per Latitude in the Northern Hemisphere\")\n",
    "plt.xlabel(\"Latitude\")\n",
    "plt.ylabel(\"Wind Speed (mph)\")\n",
    "plt.savefig(\"../Images/Wind Speed vs Latitude in the Northern Hemishpere.png\")"
   ]
  },
  {
   "cell_type": "markdown",
   "metadata": {},
   "source": [
    "####  Southern Hemisphere - Wind Speed (mph) vs. Latitude Linear Regression"
   ]
  },
  {
   "cell_type": "code",
   "execution_count": 24,
   "metadata": {
    "scrolled": true
   },
   "outputs": [
    {
     "name": "stdout",
     "output_type": "stream",
     "text": [
      "The r-squared is: -0.21\n"
     ]
    },
    {
     "data": {
      "image/png": "[encoded data removed]",
      "text/plain": [
       "<Figure size 432x288 with 1 Axes>"
      ]
     },
     "metadata": {
      "needs_background": "light"
     },
     "output_type": "display_data"
    }
   ],
   "source": [
    "#For the Wind Speed (mph) vs Lat Linear Regression in the Southern Hemisphere\n",
    "equation = linear_regression(southern_hemisphere[\"Latitude\"], southern_hemisphere[\"Wind Speed (mph)\"])\n",
    "annotate(equation, -50, 25)\n",
    "\n",
    "#Formatting\n",
    "plt.title(\"Wind Speed per Latitude in the Southern Hemisphere\")\n",
    "plt.xlabel(\"Latitude\")\n",
    "plt.ylabel(\"Wind Speed (mph)\")\n",
    "plt.savefig(\"../Images/Wind Speed vs Latitude in the Southern Hemishpere.png\")"
   ]
  },
  {
   "cell_type": "code",
   "execution_count": null,
   "metadata": {},
   "outputs": [],
   "source": [
    "#### Analysis\n",
    "#1 - Based on the graphs I was able to produce, it does not look like Latitude position and Humidity are correlated at all.  This is not unusual because we know that humidity is caused by open water around an area, and since oceans are all around the world, as well as lakes, rivers, and other bodies of water, humidity level is not affected by latitude\n",
    "#2 - Based on the graphs looking at Max Temperature vs Latitude, we can assume that as you get closer to the equator (0), the average maximum temperature increases.\n",
    "#3 - Based on the graphs for Wind Speed vs Latitude, we can estimate that the wind speeds are going to be higher the farther away from the equator (0) we travel.  Although the windspeed in the Southern Hemisphere is seeming going down because the values are negative, we have to remember that the South Pole is the \"smallest\" latitdue we have since it is \"below zero\" or below the equator."
   ]
  }
 ],
 "metadata": {
  "anaconda-cloud": {},
  "kernel_info": {
   "name": "python3"
  },
  "kernelspec": {
   "display_name": "PythonData",
   "language": "python",
   "name": "pythondata"
  },
  "language_info": {
   "codemirror_mode": {
    "name": "ipython",
    "version": 3
   },
   "file_extension": ".py",
   "mimetype": "text/x-python",
   "name": "python",
   "nbconvert_exporter": "python",
   "pygments_lexer": "ipython3",
   "version": "3.9.12"
  },
  "latex_envs": {
   "LaTeX_envs_menu_present": true,
   "autoclose": false,
   "autocomplete": true,
   "bibliofile": "biblio.bib",
   "cite_by": "apalike",
   "current_citInitial": 1,
   "eqLabelWithNumbers": true,
   "eqNumInitial": 1,
   "hotkeys": {
    "equation": "Ctrl-E",
    "itemize": "Ctrl-I"
   },
   "labels_anchors": false,
   "latex_user_defs": false,
   "report_style_numbering": false,
   "user_envs_cfg": false
  },
  "nteract": {
   "version": "0.12.3"
  }
 },
 "nbformat": 4,
 "nbformat_minor": 2
}
